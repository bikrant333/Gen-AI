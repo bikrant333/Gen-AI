{
 "cells": [
  {
   "cell_type": "code",
   "execution_count": 1,
   "id": "a2f118e9",
   "metadata": {},
   "outputs": [],
   "source": [
    "import cohere\n",
    "import pandas as pd\n",
    "from tqdm import tqdm\n",
    "from fastapi import FastAPI\n",
    "from cohere.responses.classify import Example"
   ]
  },
  {
   "cell_type": "code",
   "execution_count": 2,
   "id": "979e3cf1",
   "metadata": {},
   "outputs": [],
   "source": [
    "api_key = '0KeTU61A6Yci4y3En9gGOxBpI6aHzmx5d5LSQVrc'\n",
    "co = cohere.Client(api_key)"
   ]
  },
  {
   "cell_type": "code",
   "execution_count": 10,
   "id": "379fcaae",
   "metadata": {},
   "outputs": [],
   "source": []
  },
  {
   "cell_type": "code",
   "execution_count": 3,
   "id": "aab5d543",
   "metadata": {},
   "outputs": [],
   "source": [
    "inputs=[\n",
    "  \"Sneakers offers a perfect blend of style, comfort, and versatility\",\n",
    "  \"What would you like to listen in pop track\",\n",
    "  \"Pasta is made from an unleavened dough of wheat flour mixed with water or eggs\",\n",
    "  \"Maldives is my favorite destination\",\n",
    "]"
   ]
  },
  {
   "cell_type": "code",
   "execution_count": 4,
   "id": "0a8a6470",
   "metadata": {},
   "outputs": [
    {
     "name": "stdout",
     "output_type": "stream",
     "text": [
      "Error:  HTTPSConnectionPool(host='api.cohere.ai', port=443): Max retries exceeded with url: /v1/classify (Caused by ConnectTimeoutError(<urllib3.connection.HTTPSConnection object at 0x12c626bf0>, 'Connection to api.cohere.ai timed out. (connect timeout=120)'))\n"
     ]
    },
    {
     "ename": "UnboundLocalError",
     "evalue": "local variable 'response' referenced before assignment",
     "output_type": "error",
     "traceback": [
      "\u001b[0;31m---------------------------------------------------------------------------\u001b[0m",
      "\u001b[0;31mUnboundLocalError\u001b[0m                         Traceback (most recent call last)",
      "Cell \u001b[0;32mIn[4], line 25\u001b[0m\n\u001b[1;32m     22\u001b[0m         \u001b[38;5;28mprint\u001b[39m(\u001b[38;5;124m'\u001b[39m\u001b[38;5;124mError: \u001b[39m\u001b[38;5;124m'\u001b[39m, e)\n\u001b[1;32m     23\u001b[0m     \u001b[38;5;28;01mreturn\u001b[39;00m [(ip,res\u001b[38;5;241m.\u001b[39mpredictions[\u001b[38;5;241m0\u001b[39m:]) \u001b[38;5;28;01mfor\u001b[39;00m ip,res \u001b[38;5;129;01min\u001b[39;00m \u001b[38;5;28mzip\u001b[39m(inputs,response)]\n\u001b[0;32m---> 25\u001b[0m \u001b[38;5;28mprint\u001b[39m(\u001b[43mclassify_text\u001b[49m\u001b[43m(\u001b[49m\u001b[43minputs\u001b[49m\u001b[43m)\u001b[49m)\n",
      "Cell \u001b[0;32mIn[4], line 23\u001b[0m, in \u001b[0;36mclassify_text\u001b[0;34m(inputs, examp)\u001b[0m\n\u001b[1;32m     21\u001b[0m \u001b[38;5;28;01mexcept\u001b[39;00m \u001b[38;5;167;01mException\u001b[39;00m \u001b[38;5;28;01mas\u001b[39;00m e:\n\u001b[1;32m     22\u001b[0m     \u001b[38;5;28mprint\u001b[39m(\u001b[38;5;124m'\u001b[39m\u001b[38;5;124mError: \u001b[39m\u001b[38;5;124m'\u001b[39m, e)\n\u001b[0;32m---> 23\u001b[0m \u001b[38;5;28;01mreturn\u001b[39;00m [(ip,res\u001b[38;5;241m.\u001b[39mpredictions[\u001b[38;5;241m0\u001b[39m:]) \u001b[38;5;28;01mfor\u001b[39;00m ip,res \u001b[38;5;129;01min\u001b[39;00m \u001b[38;5;28mzip\u001b[39m(inputs,\u001b[43mresponse\u001b[49m)]\n",
      "\u001b[0;31mUnboundLocalError\u001b[0m: local variable 'response' referenced before assignment"
     ]
    }
   ],
   "source": [
    "examples1 = [\n",
    "    Example(\"They are currently taking a short break in Spain\", \"vacation\"),\n",
    "    Example(\"Other commonly enjoyed genres include rock, hip-hop, and electronic dance music (EDM), but preferences can differ significantly based on demographics\", \"entertainment\"),\n",
    "    Example(\"What is the menu for dinner today\",\"food\"),\n",
    "    Example(\"Once Damian came back, Dusty was going on his first vacation ever.\",\"vacation\"),\n",
    "    Example(\"Clothing can also be a powerful means of self-expression and communication.\", \"fashion\"),\n",
    "    Example(\"I love having salad for lunch\",\"food\"),\n",
    "    Example(\"Bali is a great destination for relaxation and exploration as it offers stunning beaches, vibrant cultural experiences, and lush landscapes\", \"vacation\"),\n",
    "    Example(\"Evil dead is the best horrer film\" ,\"entertainment\",),\n",
    "    Example(\"I love to wear denim and white top on summer\",\"fashion\"),\n",
    "    Example(\"My partner and i like to explore lush landscapes, enjoy beautiful beaches, and experience Hawaiian culture.\", \"vacation\"),\n",
    "    Example(\"I am going to watch Avengers today with my friends\",\"entertainment\",),\n",
    "    Example(\"Tacos and burgers are popular and delicious items in the world of cuisine.\", \"food\"),\n",
    "    Example(\"Pop music often incorporates catchy melodies, simple song structures, and a broad appeal\",\"entertainment\"),\n",
    "    Example(\"My friend often choose among meat, poultry, and seafood based on taste, dietary preferences, and nutritional needs\",\"food\"),\n",
    "]\n",
    "\n",
    "def classify_text(inputs, examp = examples1):\n",
    "    try:\n",
    "        response = co.classify(model='large',inputs=inputs,examples=examp)\n",
    "    except Exception as e:\n",
    "        print('Error: ', e)\n",
    "    return [(ip,res.predictions[0:]) for ip,res in zip(inputs,response)]\n",
    "\n"
   ]
  },
  {
   "cell_type": "code",
   "execution_count": 5,
   "id": "7c2157a5",
   "metadata": {},
   "outputs": [
    {
     "name": "stdout",
     "output_type": "stream",
     "text": [
      "Error:  HTTPSConnectionPool(host='api.cohere.ai', port=443): Max retries exceeded with url: /v1/classify (Caused by ConnectTimeoutError(<urllib3.connection.HTTPSConnection object at 0x12c6272e0>, 'Connection to api.cohere.ai timed out. (connect timeout=120)'))\n"
     ]
    },
    {
     "ename": "UnboundLocalError",
     "evalue": "local variable 'response' referenced before assignment",
     "output_type": "error",
     "traceback": [
      "\u001b[0;31m---------------------------------------------------------------------------\u001b[0m",
      "\u001b[0;31mUnboundLocalError\u001b[0m                         Traceback (most recent call last)",
      "Cell \u001b[0;32mIn[5], line 1\u001b[0m\n\u001b[0;32m----> 1\u001b[0m \u001b[38;5;28mprint\u001b[39m(\u001b[43mclassify_text\u001b[49m\u001b[43m(\u001b[49m\u001b[43minputs\u001b[49m\u001b[43m)\u001b[49m)\n",
      "Cell \u001b[0;32mIn[4], line 23\u001b[0m, in \u001b[0;36mclassify_text\u001b[0;34m(inputs, examp)\u001b[0m\n\u001b[1;32m     21\u001b[0m \u001b[38;5;28;01mexcept\u001b[39;00m \u001b[38;5;167;01mException\u001b[39;00m \u001b[38;5;28;01mas\u001b[39;00m e:\n\u001b[1;32m     22\u001b[0m     \u001b[38;5;28mprint\u001b[39m(\u001b[38;5;124m'\u001b[39m\u001b[38;5;124mError: \u001b[39m\u001b[38;5;124m'\u001b[39m, e)\n\u001b[0;32m---> 23\u001b[0m \u001b[38;5;28;01mreturn\u001b[39;00m [(ip,res\u001b[38;5;241m.\u001b[39mpredictions[\u001b[38;5;241m0\u001b[39m:]) \u001b[38;5;28;01mfor\u001b[39;00m ip,res \u001b[38;5;129;01min\u001b[39;00m \u001b[38;5;28mzip\u001b[39m(inputs,\u001b[43mresponse\u001b[49m)]\n",
      "\u001b[0;31mUnboundLocalError\u001b[0m: local variable 'response' referenced before assignment"
     ]
    }
   ],
   "source": [
    "print(classify_text(inputs))"
   ]
  },
  {
   "cell_type": "code",
   "execution_count": 6,
   "id": "914ad8bf",
   "metadata": {},
   "outputs": [
    {
     "name": "stdout",
     "output_type": "stream",
     "text": [
      "{'food', 'entertainment', 'vacation', 'fashion'}\n"
     ]
    }
   ],
   "source": [
    "#Ask customer to talk on below topics\n",
    "topics = set([i.label for i in examples1])\n",
    "print(topics)"
   ]
  }
 ],
 "metadata": {
  "kernelspec": {
   "display_name": "Python 3 (ipykernel)",
   "language": "python",
   "name": "python3"
  },
  "language_info": {
   "codemirror_mode": {
    "name": "ipython",
    "version": 3
   },
   "file_extension": ".py",
   "mimetype": "text/x-python",
   "name": "python",
   "nbconvert_exporter": "python",
   "pygments_lexer": "ipython3",
   "version": "3.10.11"
  }
 },
 "nbformat": 4,
 "nbformat_minor": 5
}
