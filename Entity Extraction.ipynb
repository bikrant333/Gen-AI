{
 "cells": [
  {
   "cell_type": "code",
   "execution_count": 1,
   "id": "0d06c4a2",
   "metadata": {},
   "outputs": [],
   "source": [
    "import cohere\n",
    "import pandas as pd\n",
    "from tqdm import tqdm"
   ]
  },
  {
   "cell_type": "code",
   "execution_count": 2,
   "id": "12d20be5",
   "metadata": {},
   "outputs": [],
   "source": [
    "api_key = '0KeTU61A6Yci4y3En9gGOxBpI6aHzmx5d5LSQVrc'\n",
    "co = cohere.Client(api_key)"
   ]
  },
  {
   "cell_type": "code",
   "execution_count": 3,
   "id": "fc66b80f",
   "metadata": {},
   "outputs": [],
   "source": [
    "examples = [\n",
    "(\"Name Entity: John Smith\", \"John Smith is the CEO of XYZ Corporation.\"),\n",
    "(\"Location Entity: Europe\", \"I would like to go on a Europe Trip\"),\n",
    "(\"Email Entity: support@example.com\", \"Please contact support@example.com for further assistance\"),\n",
    "(\"Phone No Entity: +1 (555) 123-4567\", \"You can reach our customer service at +1 (555) 123-4567\"),\n",
    "(\"Name Entity: James Cameron\", \"James Cameron congratulates Kevin Feige and Marvel!\"),\n",
    "(\"Date and Time Entity: January 15, 2024\", \"The meeting is scheduled for January 15, 2024.\"),\n",
    "(\"Location Entity: London,New York\" , \"The flight from London to New York will depart at 11:00 PM on British Airways.\"),\n",
    "(\"Name Entity: Elon Musk\" , \"The stock price of Tesla rose by 5% after Elon Musk announced a new Gigafactory in Berlin.\"),\n",
    "(\"Phone No Entity: 555-1234\" , \"Call Dr. Smith at 555-1234 to schedule an appointment tomorrow at 10 AM.\"),\n",
    "(\"Date and Time Entity: 1889\" ,\"The Eiffel Tower, completed in 1889, is a famous landmark located in Paris, France.\"),\n",
    "]"
   ]
  },
  {
   "cell_type": "code",
   "execution_count": 4,
   "id": "31aa501a",
   "metadata": {},
   "outputs": [],
   "source": [
    "#@title Create the prompt (Run this cell to execute required code) {display-mode: \"form\"}\n",
    "\n",
    "class cohereExtractor():\n",
    "    \n",
    "    def __init__(self, examples, example_labels, labels, task_desciption, example_prompt):\n",
    "        self.examples = examples\n",
    "        self.example_labels = example_labels\n",
    "        self.labels = labels\n",
    "        self.task_desciption = task_desciption\n",
    "        self.example_prompt = example_prompt\n",
    "\n",
    "    def make_prompt(self, example):\n",
    "        \n",
    "        ## Define the prompt to extract entities from\n",
    "        \n",
    "        examples = self.examples + [example]\n",
    "        labels = self.example_labels + [\"\"]\n",
    "        return (self.task_desciption +\n",
    "                \"\\n---\\n\".join( [examples[i] + \"\\n\" +\n",
    "                                self.example_prompt + \n",
    "                                 labels[i] for i in range(len(examples))]))\n",
    "\n",
    "    def extract(self, example):\n",
    "        \n",
    "        # Call the entity extraction endpoint\n",
    "    \n",
    "      extraction = co.generate(\n",
    "          model='command',\n",
    "          prompt=self.make_prompt(example),\n",
    "          max_tokens=200,\n",
    "          temperature=0.6,\n",
    "          stop_sequences=[\"\\n\"])\n",
    "      return(extraction.generations[0].text)\n",
    "\n",
    "\n",
    "cohereMovieExtractor = cohereExtractor([e[1] for e in examples], [e[0] for e in examples], [],\"\", \"extract the entity from text:\")\n"
   ]
  },
  {
   "cell_type": "code",
   "execution_count": 13,
   "id": "bc518ad7",
   "metadata": {},
   "outputs": [
    {
     "data": {
      "text/plain": [
       "{'Date and Time Entity',\n",
       " 'Email Entity',\n",
       " 'Location Entity',\n",
       " 'Name Entity',\n",
       " 'Phone No Entity'}"
      ]
     },
     "execution_count": 13,
     "metadata": {},
     "output_type": "execute_result"
    }
   ],
   "source": [
    "#The entity that we are extracting from above text\n",
    "\n",
    "set([e[0].split(':')[0] for e in examples])"
   ]
  },
  {
   "cell_type": "code",
   "execution_count": 5,
   "id": "6acbb7a7",
   "metadata": {},
   "outputs": [],
   "source": [
    "input_text = [\"Welcome to the party! Sarah and Mark just arrived.\",\"The conference will be held at the Grand Plaza Hotel, New York.\",\"Introducing our new Marketing Manager, Alex Rodriguez.\",\"Our company is hiring a Senior Software Engineer for the new project.\"]\n"
   ]
  },
  {
   "cell_type": "code",
   "execution_count": 6,
   "id": "39781ae2",
   "metadata": {},
   "outputs": [
    {
     "name": "stderr",
     "output_type": "stream",
     "text": [
      "100%|█████████████████████████████████████████████████████████████████████████████████████████████████████████████████████████████████████████████████| 4/4 [00:06<00:00,  1.70s/it]\n"
     ]
    },
    {
     "data": {
      "text/plain": [
       "[' Name Entity: Sarah, Mark',\n",
       " ' Location Entity: Grand Plaza Hotel, New York',\n",
       " ' Name Entity: Alex Rodriguez',\n",
       " ' Job Title Entity: Senior Software Engineer']"
      ]
     },
     "execution_count": 6,
     "metadata": {},
     "output_type": "execute_result"
    }
   ],
   "source": [
    "results = []\n",
    "for text in tqdm(input_text):\n",
    "    try:\n",
    "        extracted_text = cohereMovieExtractor.extract(text)\n",
    "        results.append(extracted_text)\n",
    "    except Exception as e:\n",
    "        print('ERROR: ', e)\n",
    "results"
   ]
  },
  {
   "cell_type": "code",
   "execution_count": null,
   "id": "49b65a94",
   "metadata": {},
   "outputs": [],
   "source": []
  },
  {
   "cell_type": "code",
   "execution_count": null,
   "id": "38f4f97b",
   "metadata": {},
   "outputs": [],
   "source": []
  },
  {
   "cell_type": "code",
   "execution_count": null,
   "id": "a6b35c1e",
   "metadata": {},
   "outputs": [],
   "source": []
  },
  {
   "cell_type": "code",
   "execution_count": null,
   "id": "2c0b7de0",
   "metadata": {},
   "outputs": [],
   "source": []
  }
 ],
 "metadata": {
  "kernelspec": {
   "display_name": "Python 3 (ipykernel)",
   "language": "python",
   "name": "python3"
  },
  "language_info": {
   "codemirror_mode": {
    "name": "ipython",
    "version": 3
   },
   "file_extension": ".py",
   "mimetype": "text/x-python",
   "name": "python",
   "nbconvert_exporter": "python",
   "pygments_lexer": "ipython3",
   "version": "3.10.11"
  }
 },
 "nbformat": 4,
 "nbformat_minor": 5
}
