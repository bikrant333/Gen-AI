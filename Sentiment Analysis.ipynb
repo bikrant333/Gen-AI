{
 "cells": [
  {
   "cell_type": "code",
   "execution_count": 1,
   "id": "3c6380dd",
   "metadata": {},
   "outputs": [],
   "source": [
    "import pandas as pd\n",
    "import cohere\n",
    "import time\n",
    "from cohere.responses.classify import Example\n",
    "from tqdm import tqdm"
   ]
  },
  {
   "cell_type": "code",
   "execution_count": 2,
   "id": "104e80cd",
   "metadata": {},
   "outputs": [],
   "source": [
    "api_key = '0KeTU61A6Yci4y3En9gGOxBpI6aHzmx5d5LSQVrc'\n",
    "co = cohere.Client(api_key)"
   ]
  },
  {
   "cell_type": "code",
   "execution_count": 3,
   "id": "2977877e",
   "metadata": {},
   "outputs": [],
   "source": [
    "examples=[\n",
    "  (\"The order came 5 days early\", 0.98), \n",
    "  (\"The item exceeded my expectations\", 0.95), \n",
    "  (\"I ordered more for my friends\", 0.8), \n",
    "  (\"I would buy this again\", 0.8), \n",
    "  (\"I would recommend this to others\", 0.8), \n",
    "  (\"The package was damaged\", -0.6), \n",
    "  (\"The order is 5 days late\", -0.98), \n",
    "  (\"The order was incorrect\", -0.8), \n",
    "  (\"I want to return my item\", -0.7), \n",
    "  (\"The item\\'s material feels very low quality\", -0.9), \n",
    "  (\"The product was okay\", 0), \n",
    "  (\"I received five items in total\", 0), \n",
    "  (\"I bought it from the website\", 0), \n",
    "]"
   ]
  },
  {
   "cell_type": "code",
   "execution_count": 4,
   "id": "5a9b1722",
   "metadata": {},
   "outputs": [],
   "source": [
    "inputs=[\n",
    "  \"This item was broken when it arrived\",\n",
    "  \"The electric bill is very high\",\n",
    "  \"The food is awsome here\"]"
   ]
  },
  {
   "cell_type": "code",
   "execution_count": 5,
   "id": "e2302591",
   "metadata": {},
   "outputs": [],
   "source": [
    "#@title Create the prompt (Run this cell to execute required code) {display-mode: \"form\"}\n",
    "\n",
    "class cohereSentimentScore():\n",
    "    \n",
    "    def __init__(self, examples, example_labels, labels, task_desciption, example_prompt):\n",
    "        self.examples = examples\n",
    "        self.example_labels = example_labels\n",
    "        self.labels = labels\n",
    "        self.task_desciption = task_desciption\n",
    "        self.example_prompt = example_prompt\n",
    "\n",
    "    def make_prompt(self, example):\n",
    "        \n",
    "        ## Define the prompt to extract entities from\n",
    "        \n",
    "        examples = self.examples + [example]\n",
    "        labels = self.example_labels + [\"\"]\n",
    "        return (self.task_desciption +\n",
    "                \"\\n---\\n\".join( [examples[i] + \"\\n\" +\n",
    "                                self.example_prompt + \n",
    "                                 str(labels[i]) for i in range(len(examples))]))\n",
    "\n",
    "    def sentiments_score(self, example):\n",
    "        # Call the entity extraction endpoint\n",
    "        sentiment_score = co.generate(model='command',prompt=self.make_prompt(example),max_tokens=100,temperature=0.6,stop_sequences=[\"\\n\"])\n",
    "        return(sentiment_score.generations[0].text)\n",
    "\n",
    "\n",
    "cohere_sentiments_score = cohereSentimentScore([e[0] for e in examples], [e[1] for e in examples], [],\"Below are examples of sentiment texts and their scores\", \"Sentiment Score:\")\n"
   ]
  },
  {
   "cell_type": "code",
   "execution_count": 6,
   "id": "f7554b72",
   "metadata": {},
   "outputs": [
    {
     "name": "stderr",
     "output_type": "stream",
     "text": [
      "100%|█████████████████████████████████████████████████████████████████████████████████████████████████████████████████████████████████████████████████| 3/3 [00:09<00:00,  3.19s/it]\n"
     ]
    },
    {
     "data": {
      "text/plain": [
       "['-0.95', '-0.8', '0.9']"
      ]
     },
     "execution_count": 6,
     "metadata": {},
     "output_type": "execute_result"
    }
   ],
   "source": [
    "results = []\n",
    "for text in tqdm(inputs):\n",
    "    try:\n",
    "        sentiments_scores = cohere_sentiments_score.sentiments_score(text)\n",
    "        results.append(sentiments_scores.strip())\n",
    "    except Exception as e:\n",
    "        print('ERROR: ', e)\n",
    "results"
   ]
  },
  {
   "cell_type": "code",
   "execution_count": 7,
   "id": "a0bfdf4b",
   "metadata": {},
   "outputs": [
    {
     "name": "stdout",
     "output_type": "stream",
     "text": [
      "This item was broken when it arrived -0.95\n",
      "The electric bill is very high -0.8\n",
      "The food is awsome here 0.9\n"
     ]
    }
   ],
   "source": [
    "for i,j in zip(inputs,results):\n",
    "    print(i,j)"
   ]
  },
  {
   "cell_type": "code",
   "execution_count": null,
   "id": "e880aef4",
   "metadata": {},
   "outputs": [],
   "source": []
  },
  {
   "cell_type": "code",
   "execution_count": null,
   "id": "584ac4f5",
   "metadata": {},
   "outputs": [],
   "source": []
  }
 ],
 "metadata": {
  "kernelspec": {
   "display_name": "Python 3 (ipykernel)",
   "language": "python",
   "name": "python3"
  },
  "language_info": {
   "codemirror_mode": {
    "name": "ipython",
    "version": 3
   },
   "file_extension": ".py",
   "mimetype": "text/x-python",
   "name": "python",
   "nbconvert_exporter": "python",
   "pygments_lexer": "ipython3",
   "version": "3.10.11"
  }
 },
 "nbformat": 4,
 "nbformat_minor": 5
}
